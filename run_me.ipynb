{
 "cells": [
  {
   "cell_type": "markdown",
   "metadata": {},
   "source": [
    "# Solving Wordle Puzzle with Python\n",
    "\n",
    "Run all cells below. Function `solve()` will suggest you and based on the feedback you tell it, it will trim the list of words and suggest you another one. \n",
    "\n",
    "For feedbacks you must use one of the following characters: \n",
    "* `c`: If the character is correct in that place (green in Wordle)\n",
    "* `x`: If the character is not in the word (grey in wordle)\n",
    "* `*`: The character is in the word, but in wrong place (yellow in wordle)\n",
    "* `-----`: Use this in cases where the word is not recognized in wordle (the nltk.words is used here which might not match the list of English words Wordle uses)"
   ]
  },
  {
   "cell_type": "code",
   "execution_count": 47,
   "metadata": {
    "colab": {
     "base_uri": "https://localhost:8080/"
    },
    "id": "1NhuVWvBrD6L",
    "outputId": "5b2d9a3e-c4de-4829-81b3-5d35807028ca"
   },
   "outputs": [
    {
     "name": "stdout",
     "output_type": "stream",
     "text": [
      "[nltk_data] Downloading package words to /root/nltk_data...\n",
      "[nltk_data]   Package words is already up-to-date!\n"
     ]
    }
   ],
   "source": [
    "import nltk\n",
    "nltk.download('words')\n",
    "\n",
    "from nltk.corpus import words\n",
    "\n",
    "WORDLE_WORD_LENGTH = 5\n",
    "low = words.words()\n",
    "low = [w for w in low if all(c.isalpha() for c in w) and all(c.islower() for c in w)]\n",
    "low = list(set(low))"
   ]
  },
  {
   "cell_type": "code",
   "execution_count": 51,
   "metadata": {
    "colab": {
     "base_uri": "https://localhost:8080/"
    },
    "id": "U3PWgHXorOQy",
    "outputId": "7c945a10-1dde-4d56-adb4-54d82522e020"
   },
   "outputs": [
    {
     "name": "stdout",
     "output_type": "stream",
     "text": [
      "{'a': 0.5257149582205485, 'd': 0.16464634576909498, 'e': 0.5007649758738378, 'p': 0.15217135459573966, 't': 0.2802165470165941, 'l': 0.2786865952689184, 'c': 0.18194656937742731, 'g': 0.1296928327645051, 'r': 0.3581263975520772, 'i': 0.3037542662116041, 'n': 0.26056255148876073, 'h': 0.15570201247499119, 'v': 0.054842885724373305, 'y': 0.18889019653995529, 'o': 0.3296457573261151, 'f': 0.07779216193950807, 'u': 0.22137224902906907, 'z': 0.029422148993762505, 'b': 0.13675414852300813, 'k': 0.10380134164999412, 's': 0.2804519242085442, 'm': 0.15311286336354007, 'w': 0.08061668824290927, 'x': 0.022243144639284455, 'j': 0.019183241143933154, 'q': 0.009885842061904201}\n"
     ]
    }
   ],
   "source": [
    "from collections import defaultdict\n",
    "def compute_freqs(list_of_words):\n",
    "  cnt = defaultdict(int)\n",
    "  for w in list_of_words:\n",
    "    for c in w:\n",
    "      cnt[c] += 1\n",
    "    \n",
    "  freq = {c: count / len(list_of_words) for c, count in cnt.items() }\n",
    "  return freq\n",
    "\n",
    "def word_score(freqs, word):\n",
    "  return sum(freqs[c] for c in set(word))\n",
    "\n",
    "freqs = compute_freqs(low)\n",
    "low = [w for w in low if len(w) == WORDLE_WORD_LENGTH]"
   ]
  },
  {
   "cell_type": "code",
   "execution_count": 54,
   "metadata": {
    "colab": {
     "base_uri": "https://localhost:8080/"
    },
    "id": "6SkMs5hhuL0r",
    "outputId": "c8036994-c8cc-4272-8bdb-12e5c5bd03bc"
   },
   "outputs": [
    {
     "name": "stdout",
     "output_type": "stream",
     "text": [
      "Try this word ---> arose\n",
      "What is the result? [x: not in word, *: wrong place, but in the word, c: right place]*xx*c\n",
      "Try this word ---> taise\n",
      "What is the result? [x: not in word, *: wrong place, but in the word, c: right place]-----\n",
      "Try this word ---> aisle\n",
      "What is the result? [x: not in word, *: wrong place, but in the word, c: right place]*x*xc\n",
      "Try this word ---> stane\n",
      "What is the result? [x: not in word, *: wrong place, but in the word, c: right place]cxcxc\n",
      "Try this word ---> suade\n",
      "What is the result? [x: not in word, *: wrong place, but in the word, c: right place]-----\n",
      "Try this word ---> scape\n",
      "What is the result? [x: not in word, *: wrong place, but in the word, c: right place]cxcxc\n",
      "Try this word ---> shade\n",
      "What is the result? [x: not in word, *: wrong place, but in the word, c: right place]cccxc\n",
      "Try this word ---> shame\n",
      "What is the result? [x: not in word, *: wrong place, but in the word, c: right place]cccxc\n",
      "Try this word ---> shake\n",
      "What is the result? [x: not in word, *: wrong place, but in the word, c: right place]ccccc\n",
      "Congrats!\n"
     ]
    }
   ],
   "source": [
    "def check_result(result):\n",
    "  return len(result) == WORDLE_WORD_LENGTH and all(c in \"x*c-\" for c in result)\n",
    "\n",
    "def try_and_get_result(w):\n",
    "    print(f\"Try this word ---> {w}\")\n",
    "    result = input('What is the result? [x: not in word, *: wrong place, but in the word, c: right place]')\n",
    "\n",
    "    while not check_result(result):\n",
    "      print('Wrong format! Try again')\n",
    "      result = input('What is the result? [x: not in word, *: wrong place, but in the word, c: right place, -----: not a word]')\n",
    "    \n",
    "    return result\n",
    "\n",
    "\n",
    "def solve(list_of_words, freqs):\n",
    "  result = \"x\" * WORDLE_WORD_LENGTH\n",
    "  low = [w for w in list_of_words]\n",
    "\n",
    "  while len(low) > 1 and any(c != 'c' for c in result):\n",
    "    low = sorted(low, key=lambda x: word_score(freqs, x), reverse=True)\n",
    "    \n",
    "    result = try_and_get_result(low[0])\n",
    "    while result == '-' * WORDLE_WORD_LENGTH:\n",
    "      low = low[1:]\n",
    "      result = try_and_get_result(low[0])\n",
    "    \n",
    "    best_word = low[0]\n",
    "\n",
    "    for i, r in enumerate(result):\n",
    "      if r == 'c':\n",
    "        low = [w for w in low if w[i] == best_word[i]]\n",
    "      elif r == 'x':\n",
    "        low = [w for w in low if best_word[i] not in w]\n",
    "      else:\n",
    "        low = [w for w in low if best_word[i] in w]\n",
    "    \n",
    "  if all(c == 'c' for c in result):\n",
    "    print('Congrats!')\n",
    "    return\n",
    "  \n",
    "  if len(low) == 1:\n",
    "    print(f'The only remaining word is ----> {low[0]}')\n",
    "    return\n",
    "  \n",
    "  print('Sorry! I could not find any word :(')\n",
    "\n",
    "solve(low, freqs)  "
   ]
  }
 ],
 "metadata": {
  "colab": {
   "name": "Untitled0.ipynb",
   "provenance": []
  },
  "kernelspec": {
   "display_name": "Python 3 (ipykernel)",
   "language": "python",
   "name": "python3"
  },
  "language_info": {
   "codemirror_mode": {
    "name": "ipython",
    "version": 3
   },
   "file_extension": ".py",
   "mimetype": "text/x-python",
   "name": "python",
   "nbconvert_exporter": "python",
   "pygments_lexer": "ipython3",
   "version": "3.8.12"
  }
 },
 "nbformat": 4,
 "nbformat_minor": 1
}
